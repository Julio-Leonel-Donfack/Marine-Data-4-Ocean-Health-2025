{
 "cells": [
  {
   "cell_type": "markdown",
   "id": "13627424-6e0b-49b2-8558-3a683d3c1632",
   "metadata": {},
   "source": [
    "<div style=\"text-align: center;\">\n",
    "    <img src=\"https://i.imgur.com/I4ake6d.jpg\" alt=\"Logo EU Copernicus WEkEO\" style=\"width: 100%;\"/>\n",
    "</div>\n",
    "\n",
    "\n",
    "# CMEMS Ocean Health TRAINING\n",
    "\n",
    "<div style=\"text-align: right\"><i> INTERMEDIATE LEVEL </i></div>\n",
    "\n",
    "***\n",
    "<center><h1> Eutrophication in coastal waters - Adriatic Sea </h1></center>\n",
    "\n",
    "***\n",
    "**General Note 1**: Execute each cell through the <button class=\"btn btn-default btn-xs\"><i class=\"icon-play fa fa-play\"></i></button> button from the top MENU (or keyboard shortcut `Shift` + `Enter`).<br>\n",
    "<br>\n",
    "**General Note 2**: If, for any reason, the kernel is not working anymore, in the top MENU, click on the <button class=\"btn btn-default btn-xs\"><i class=\"fa fa-repeat icon-repeat\"></i></button> button. Then, in the top MENU, click on \"Run\" and select \"Run All Above Selected Cell\".<br>\n",
    "\n",
    "\n",
    "***"
   ]
  },
  {
   "cell_type": "markdown",
   "id": "532cc662-d0e0-4c77-bd2d-8dc899246290",
   "metadata": {},
   "source": [
    "# Table of contents\n",
    "- [1. Introduction](#1.-Introduction)\n",
    "- [2. Setting up the R environment](#2.-Setting-up-the-R-environment)\n",
    "- [3. Data Access](#3.-Data-Access)\n",
    "- [4. Input](#4.-Input)\n",
    "- [5. Plot](#5.-Plot)\n",
    "    - [5.1. Basic Plot](#5.1.-Basic-Plot)\n",
    "    - [5.2. Comparison between different variables](#5.2.-Comparison-between-different-variables)\n",
    "    - [5.3. Comparison between different date](#5.3.-Comparison-between-different-date)\n",
    "    - [5.4. Annimation of annual evolution of phosphate](#5.4.-Annimation-of-annual-evolution-of-phosphate)\n",
    "    - [5.5. Visualization of current](#5.5.-Visualization-of-current)\n",
    "- [6. Conclusion](#6.-Conclusion)\n"
   ]
  },
  {
   "cell_type": "markdown",
   "id": "af744ea5-7bd5-4771-8f49-71f1b5d01642",
   "metadata": {},
   "source": [
    "# 1. Introduction\n",
    "\n",
    "[Go back to the \"Table of contents\"](#Table-of-contents)\n",
    "\n",
    "This training focuses on the eutrophication in the Adriatic Sea, near the northern regions influenced by the Po river. It is a process driven by the excessive input of nutrients, especially nitrogen (N) and phosphorus (P). These nutrients largely originate from agricultural runoff, industrial discharges, and urban wastewater entering the river and subsequently the sea. The Po river, the largest in Italy, significantly contributes to nutrient loads in the northern Adriatic, creating fertile conditions for phytoplankton growth, leading to large-scale algal blooms. This bloom increase then introduces several severe ecological disturbances:\n",
    "- Oxygen depletion: hypoxia and anoxia\n",
    "- Shift in species composition\n",
    "- Proliferation of harmful algal blooms\n",
    "- Impacts on food dynamics\n",
    "- Economic and human health impacts\n",
    "\n",
    "The ecological impact of eutrophication in the Adriatic Sea is multifaceted. \n",
    "\n",
    "This training will allow to see the evolution of different parameters (phosphate, nitrate, chlorophyll) over time and the impact of the current which carries these nutrients over a large area along the west coast of the Adriatic Sea.\n"
   ]
  },
  {
   "cell_type": "markdown",
   "id": "61beb382-e3aa-4e8d-8221-519d84c00646",
   "metadata": {},
   "source": [
    "# 2. Setting up the R environment\n",
    "[Go back to the \"Table of contents\"](#Table-of-contents)\n",
    "\n",
    "The Jupyter Notebook must be set up with all the necessary available tools from the Jupyter Notebook ecosystem. Here is the list of the modules we will be using in this exercise.\n",
    "\n",
    "| Module name | Description |\n",
    "| :---: | :---|\n",
    "| **ggplot2** |[ggplot2](https://ggplot2.tidyverse.org/) is a system for declaratively creating graphics. |\n",
    "| **dplyr** |[dplyr](https://dplyr.tidyverse.org/) is a library for manipulating data. |\n",
    "| **RColorBrewer** |[RColorBrewer](https://cran.r-project.org/web/packages/RColorBrewer/index.html) is a library for color palettes in plot. |\n",
    "| **ncdf4** |[ncdf4](https://cran.r-project.org/web/packages/ncdf4/index.html) is an interface for the 'NetCDF' file formats. |\n",
    "| **gridExtra** |[gridExtra](https://cran.r-project.org/web/packages/gridExtra/index.html) is a library for arranging multiple grid-based plots on a page. |\n",
    "| **lubridate** |[lubridate](https://www.rdocumentation.org/packages/lubridate/versions/1.9.3) is a library for fast and user-friendly analysis of date-time data. |\n",
    "|**magick**|[magick](https://cran.r-project.org/web/packages/magick/vignettes/intro.html) is a package that provide a modern and simple toolkit for image processing. |\n",
    "|**ggquiver**|[ggquiver](https://cran.r-project.org/web/packages/ggquiver/readme/README.html) is a package that provide quiver plots to visualise vector fields. |"
   ]
  },
  {
   "cell_type": "code",
   "execution_count": null,
   "id": "20a29951-abfc-4772-a024-a29a8d9d8c6c",
   "metadata": {
    "vscode": {
     "languageId": "r"
    }
   },
   "outputs": [],
   "source": [
    "# Modules system\n",
    "# for ignoring Warning message\n",
    "options(warn = -1) \n",
    "\n",
    "## Load Packages\n",
    "library(ggplot2)        # System to creating graphycs\n",
    "library(dplyr)          # Operators for data manipulation\n",
    "library(RColorBrewer)   # For color palettes\n",
    "library(ncdf4)          # High-level interface to netCDF data files\n",
    "library(gridExtra)      # To arrange multiple grid-based plots on a page\n",
    "library(lubridate)      # Fast and user friendly parsing of date-time data\n",
    "library(magick)        # Toolkit for image processing\n",
    "library(ggquiver)      # To visualise vector fields"
   ]
  },
  {
   "cell_type": "markdown",
   "id": "0943dc4a-e253-4e75-a082-d6d427a8d91a",
   "metadata": {},
   "source": [
    "If the required R libraries are not installed, you can use the following command to install them:\n",
    "\n",
    "<center><h4> install.packages(c( \"ggplot2\", \"dplyr\", \"RColorBrewer\", \"ncdf4\", \"gridExtra\", \"lubridate\",\"magick\",\"ggquiver\")) </h4></center>"
   ]
  },
  {
   "cell_type": "markdown",
   "id": "546397f8-9bdc-47f2-ae85-15e5b94e42a1",
   "metadata": {},
   "source": [
    "# 3. Data Access\n",
    "\n",
    "[Go back to the \"Table of contents\"](#Table-of-contents)\n",
    "\n",
    "From the Copernicus Marine [Data Store](https://data.marine.copernicus.eu/products), you can explore all the products available with many filters to select the region you are interested in, the parameters you want to study, etc.\n",
    "\n",
    "CMEMS provides free and open-access data on the state of the global ocean and European regional seas. The service delivers high-quality information on ocean conditions, including temperature, salinity, currents, sea level, and biogeochemical parameters such as chlorophyll concentrations. CMEMS supports a variety of sectors such as marine safety, coastal management, climate change monitoring, and environmental protection. By integrating satellite and in-situ observations with numerical models, CMEMS offers reliable, near-real-time forecasts, reanalysis, and historical datasets, playing a crucial role in understanding and managing marine ecosystems.\n",
    "\n",
    "For this training, we will use the following data:\n",
    "\n",
    "\n",
    "* **Full Name**: Mediterranean Sea Biogeochemistry Reanalysis\n",
    "* **ProductID**:MEDSEA_MULTIYEAR_BGC_006_008\n",
    "* **Spatial region**:  Mediterranean Sea from Lat=(42ºN, 16ºN), Lon=(12ºE,-16ºE)\n",
    "* **Depth**: Surface  \n",
    "* **Variables**: nh4,no3, po4, uo, vo, chl, phyc\n",
    "* **Time period**: Monthly means from 2011-01 to 2021-12\n",
    "\n",
    "\n",
    "**You don't have to download it**, the files are already downloading in this training.\n",
    "\n",
    "__Optional:__ Go to the `Product Description Main Page` and try to download this data selection by using the Graphical User Interface. Note: You'll need to have your own Copernicus marine credentials -- username and password. Creating an account is free of charge and available [here](http://marine.copernicus.eu/services-portfolio/register-now/)."
   ]
  },
  {
   "cell_type": "markdown",
   "id": "6da4d752-82df-489a-9f7e-4ff190ffab90",
   "metadata": {},
   "source": [
    "# 4. Input\n",
    "[Go back to the \"Table of contents\"](#Table-of-contents)\n"
   ]
  },
  {
   "cell_type": "code",
   "execution_count": null,
   "id": "7996faf7-ca8f-4783-989b-d5444c9dc97b",
   "metadata": {
    "vscode": {
     "languageId": "r"
    }
   },
   "outputs": [],
   "source": [
    "# Set the path for the NetCDF files\n",
    "file <- \"data/data_nut.nc\""
   ]
  },
  {
   "cell_type": "code",
   "execution_count": null,
   "id": "214f9686-a205-4a80-b43b-4939581facf4",
   "metadata": {
    "vscode": {
     "languageId": "r"
    }
   },
   "outputs": [],
   "source": [
    "# Load NetCDF File\n",
    "data <- nc_open(file)\n",
    "\n",
    "# Print all information in the Netcdf File\n",
    "print(data)"
   ]
  },
  {
   "cell_type": "code",
   "execution_count": null,
   "id": "f41c040e-7f4e-41e1-a73b-364b88586af8",
   "metadata": {
    "vscode": {
     "languageId": "r"
    }
   },
   "outputs": [],
   "source": [
    "# Access Data\n",
    "latitude <- ncvar_get(data, \"latitude\")  # Name of the latitude variable\n",
    "longitude <- ncvar_get(data, \"longitude\")  # Name of the longitude variable\n",
    "time <- ncvar_get(data, \"time\")  # Name of the time variable\n",
    "\n",
    "nh4 <- ncvar_get(data, \"nh4\")       # Ammonium\n",
    "po4 <- ncvar_get(data, \"po4\")       # Phosphate\n",
    "no3 <- ncvar_get(data, \"no3\")       # Nitrate \n"
   ]
  },
  {
   "cell_type": "code",
   "execution_count": null,
   "id": "ac83aab4-f3d2-44dd-bd26-8462f7783de8",
   "metadata": {
    "vscode": {
     "languageId": "r"
    }
   },
   "outputs": [],
   "source": [
    "# visualisation of variable\n",
    "print(dim(po4)) # know the dimension of the variable\n",
    "print (po4[50,40,1]) # know the value depending on longitude, latitude and time"
   ]
  },
  {
   "cell_type": "code",
   "execution_count": null,
   "id": "e1eb6d2c-fb83-4fbc-8435-28f13fac63cf",
   "metadata": {
    "vscode": {
     "languageId": "r"
    }
   },
   "outputs": [],
   "source": [
    "# visualisation of variable time\n",
    "print(time[1]) # know the value of the first time"
   ]
  },
  {
   "cell_type": "code",
   "execution_count": null,
   "id": "3418325e-4736-4ca8-acaa-4439e951901c",
   "metadata": {
    "vscode": {
     "languageId": "r"
    }
   },
   "outputs": [],
   "source": [
    "# Variable time is the number of seconds since 1970-01-01 00:00:00, we should convert:\n",
    "time_values <- as.POSIXct(time, origin = \"1970-01-01\", tz = \"GMT\")\n",
    "time_values"
   ]
  },
  {
   "cell_type": "markdown",
   "id": "8f18d372-33a1-4c28-8728-3a9d23945ff1",
   "metadata": {},
   "source": [
    "# 5. Plot\n",
    "\n",
    "[Go back to the \"Table of contents\"](#Table-of-contents)\n",
    "    \n",
    "## 5.1. Basic Plot\n",
    "[Go back to the \"Table of contents\"](#Table-of-contents)"
   ]
  },
  {
   "cell_type": "code",
   "execution_count": null,
   "id": "7979e605-5719-43b3-89a1-4bc098cbec4f",
   "metadata": {
    "vscode": {
     "languageId": "r"
    }
   },
   "outputs": [],
   "source": [
    "# Determine figure size\n",
    "options(repr.plot.width =10, repr.plot.height = 10) "
   ]
  },
  {
   "cell_type": "code",
   "execution_count": null,
   "id": "1d558d0e-f02a-43bd-90c6-d6071d8cbe0f",
   "metadata": {
    "vscode": {
     "languageId": "r"
    }
   },
   "outputs": [],
   "source": [
    "# we create a dataframe\n",
    "df <- data.frame(expand.grid(longitude, latitude), po4 = as.vector(po4[,,1]))\n",
    "names(df) <- c(\"Longitude\", \"Latitude\", \"po4\")"
   ]
  },
  {
   "cell_type": "code",
   "execution_count": null,
   "id": "9be510c5-4fab-4d3b-b005-de60ace87fce",
   "metadata": {
    "vscode": {
     "languageId": "r"
    }
   },
   "outputs": [],
   "source": [
    "# visualisation of the dataframe\n",
    "df[1:20,]"
   ]
  },
  {
   "cell_type": "code",
   "execution_count": null,
   "id": "54e154f6-b2e3-4af3-9e9e-4a266595e7d2",
   "metadata": {
    "vscode": {
     "languageId": "r"
    }
   },
   "outputs": [],
   "source": [
    "# Plotting\n",
    "p <- ggplot() +\n",
    "\n",
    "# Add Phosphate data \n",
    "geom_tile(data = df, aes(x=Longitude, y=Latitude, fill = po4)) +\n",
    "\n",
    "# Color scale options limits\n",
    "scale_fill_gradientn(colors = brewer.pal(9, \"OrRd\"),  name=\"po4\",limits = c(0,0.5), na.value = \"grey\") +\n",
    "\n",
    "# General aesthetic options\n",
    "theme_light() +\n",
    "\n",
    "# Title and subtitle\n",
    "labs(title = paste(\"po4 - \",time_values[1],sep=''),\n",
    "     x = \"Longitude\",\n",
    "     y = \"Latitude\")+\n",
    "\n",
    "# Legend position and aesthetic options\n",
    "theme_minimal()+\n",
    "\n",
    "theme(\n",
    "    axis.text.x = element_text(size = 20),  # Increase the size of the x-axis values\n",
    "    axis.text.y = element_text(size = 20),  # Increase the size of the y-axis values\n",
    "    plot.title = element_text(hjust = 0.5, size = 20),  # Center and increase the size of the title\n",
    "    axis.title.x = element_text(size = 20),  # Increase the size of the x-axis title\n",
    "    axis.title.y = element_text(size = 20),  # Increase the size of the y-axis title\n",
    "    legend.text = element_text(size = 20),    # Increase the size of the legend text\n",
    "    legend.title = element_text(size = 20)     # Increase the size of the legend title\n",
    ")   +\n",
    "  guides(fill = guide_colorbar(barwidth = 2, barheight = 15)) + # Adjust the size of the colorbar\n",
    "  coord_fixed()   # Maintain proportions\n",
    "    \n",
    "p\n",
    "# to save the figure\n",
    "ggsave(\"./figures/basic_figure.png\", plot = p, width = 12, height = 12, dpi = 300)\n"
   ]
  },
  {
   "cell_type": "markdown",
   "id": "cd8e35dd-cd7e-4db3-94aa-f6e6223b4279",
   "metadata": {},
   "source": [
    "We see here, a cartographic representation of phosphate for January 2011. We see that there is a high concentration of phosphate in the northwest of the Adriatic Sea, close to the coasts. This corresponds to the estuary of the Po River. Now let's look at other variables."
   ]
  },
  {
   "cell_type": "markdown",
   "id": "43955011-1d84-43f1-bd80-384fee7f5503",
   "metadata": {},
   "source": [
    "## 5.2. Comparison between different variables\n",
    "[Go back to the \"Table of contents\"](#Table-of-contents)\n",
    "\n",
    "For this part we will compare several variables with each other. We will first import the new variables, then we create a plot function to simplify the code and finally, we will compare the variables with each other\n"
   ]
  },
  {
   "cell_type": "code",
   "execution_count": null,
   "id": "cae5d082-5bef-4c44-9765-f1fd34b3389f",
   "metadata": {},
   "outputs": [],
   "source": [
    "# Load chlorophyll and phytoplankton\n",
    "file <- \"data/data_pft.nc\"\n",
    "data_pft <- nc_open(file)\n",
    "\n",
    "# variables\n",
    "chl <- ncvar_get(data_pft, \"chl\")       # Chlorophyll\n",
    "phyc <- ncvar_get(data_pft, \"phyc\")     # phytoplankton\n"
   ]
  },
  {
   "cell_type": "code",
   "execution_count": null,
   "id": "8bffe96f-2cab-431a-bea0-b11d21db0d7c",
   "metadata": {
    "vscode": {
     "languageId": "r"
    }
   },
   "outputs": [],
   "source": [
    "# création of plot function\n",
    "mapping <- function(longitude,latitude,var,var_name,minmax,date,color){\n",
    "    options(repr.plot.width = 12, repr.plot.height = 6) \n",
    "\n",
    "    df <- data.frame(expand.grid(longitude, latitude), var = as.vector(var))\n",
    "    names(df) <- c(\"Longitude\", \"Latitude\", \"var\")\n",
    "    p <- ggplot() +geom_tile(data = df, aes(x=Longitude, y=Latitude, fill = var)) +\n",
    "\n",
    "    # Color scale options\n",
    "     scale_fill_viridis_c(option=color,limits = minmax, name = var_name) +\n",
    "\n",
    "    # General aesthetic options\n",
    "    theme_light() +\n",
    "\n",
    "    # Title and subtitle\n",
    "    labs(title = paste(var_name, \" - \",date,sep=''),\n",
    "         x = \"Longitude\",\n",
    "         y = \"Latitude\")+\n",
    "\n",
    "    # Legend position and aesthetic options\n",
    "    theme_minimal()+\n",
    "\n",
    "    theme(\n",
    "        axis.text.x = element_text(size = 20),  # Increase the size of the x-axis values\n",
    "        axis.text.y = element_text(size = 20),  # Increase the size of the y-axis values\n",
    "        plot.title = element_text(hjust = 0.5, size = 20),  # Center and increase the size of the title\n",
    "        axis.title.x = element_text(size = 20),  # Increase the size of the x-axis title\n",
    "        axis.title.y = element_text(size = 20),  # Increase the size of the y-axis title\n",
    "        legend.text = element_text(size = 20),    # Increase the size of the legend text\n",
    "        legend.title = element_text(size = 20)     # Increase the size of the legend title\n",
    "    )  +\n",
    "  guides(fill = guide_colorbar(barwidth = 2, barheight = 15)) +   # Adjust the size of the colorbar\n",
    "  coord_fixed()   # Maintain proportions\n",
    "}"
   ]
  },
  {
   "cell_type": "code",
   "execution_count": null,
   "id": "20cc2b57-434e-4e0d-8b01-40ccdf6e1d8b",
   "metadata": {},
   "outputs": [],
   "source": [
    "# the index allows to define the date that we want\n",
    "index=1\n",
    "\n",
    "# creation of plot\n",
    "p1<-mapping (longitude,latitude,po4[,,index],'po4',c(),time_values[index],\"viridis\")\n",
    "p2<-mapping (longitude,latitude,no3[,,index],'no3',c(),time_values[index],\"viridis\")\n",
    "p3<-mapping (longitude,latitude,chl[,,index],'chl',c(),time_values[index],\"viridis\")\n",
    "p4<-mapping (longitude,latitude,phyc[,,index],'phyc',c(),time_values[index],\"viridis\")"
   ]
  },
  {
   "cell_type": "code",
   "execution_count": null,
   "id": "8658be0f-bccd-4993-9996-f1becc5bd09e",
   "metadata": {},
   "outputs": [],
   "source": [
    "options(repr.plot.width = 18, repr.plot.height = 18) \n",
    "p_total=grid.arrange(p1, p2, p3, p4, ncol = 2, nrow = 2)\n",
    "ggsave(\"./figures/figure_4_variables.png\", plot = p_total ,width =12, height = 18,  dpi = 300)"
   ]
  },
  {
   "cell_type": "markdown",
   "id": "2ef72914-f3ff-47ae-8bfd-59c62d95a4d3",
   "metadata": {},
   "source": [
    "There is a great similarity between the 4 maps: \n",
    "- phosphate \n",
    "- nitrate \n",
    "- chlorophyll\n",
    "- phytoplankton. \n",
    "    \n",
    "Indeed, the nitrate and phosphate which are discharged by the River Po, due to agricultural runoff, industrial wastewater or urban wastewater, provide nutrients for the development of chlorophyll and phytoplankton which can cause blooms. The correlation between these 4 parameters is important"
   ]
  },
  {
   "cell_type": "markdown",
   "id": "7e63e1a0-ff48-4d80-8d97-7b0312a21924",
   "metadata": {},
   "source": [
    "## 5.3. Comparison between different date\n",
    "[Go back to the \"Table of contents\"](#Table-of-contents)\n",
    "\n",
    "Now we will compare the evolution of phosphate during the year 2011 with a visualization in January, April, July and October."
   ]
  },
  {
   "cell_type": "code",
   "execution_count": null,
   "id": "822efeb2-ff46-4290-83e2-46f7bc33bf59",
   "metadata": {},
   "outputs": [],
   "source": [
    "# creation of maps\n",
    "p1<-mapping (longitude,latitude,po4[,,1],'po4',c(0,0.3),time_values[1],\"viridis\")\n",
    "p2<-mapping (longitude,latitude,po4[,,4],'po4',c(0,0.3),time_values[4],\"viridis\")\n",
    "p3<-mapping (longitude,latitude,po4[,,7],'po4',c(0,0.3),time_values[7],\"viridis\")\n",
    "p4<-mapping (longitude,latitude,po4[,,10],'po4',c(0,0.3),time_values[10],\"viridis\")"
   ]
  },
  {
   "cell_type": "code",
   "execution_count": null,
   "id": "99ad37ba-b34b-4c1a-a26b-0fac29fdb910",
   "metadata": {},
   "outputs": [],
   "source": [
    "options(repr.plot.width = 18, repr.plot.height = 18) \n",
    "p_total=grid.arrange(p1, p2, p3, p4, ncol = 2, nrow = 2)\n",
    "ggsave(\"./figures/figure_4_date.png\", plot = p_total ,width =12, height = 18,  dpi = 300)\n"
   ]
  },
  {
   "cell_type": "markdown",
   "id": "9e49fe8b-ec64-41ae-94bc-7f54dd360e8f",
   "metadata": {},
   "source": [
    "There is a higher concentration of phosphate in winter than in summer because:\n",
    "- Reduced thermal stratification: In summer, surface waters warm up, creating thermal stratification. This stratification prevents nutrients from deeper layers from reaching the surface;\n",
    "- Winter rainfall and river runoff, bring significant amounts of nutrients, including phosphate, from land into the sea;"
   ]
  },
  {
   "cell_type": "markdown",
   "id": "c231a139-dbfc-4706-a408-bc2a4c90a400",
   "metadata": {
    "vscode": {
     "languageId": "r"
    }
   },
   "source": [
    "## 5.4. Annimation of annual evolution of phosphate\n",
    "[Go back to the \"Table of contents\"](#Table-of-contents)\n",
    "\n",
    "In the previous part, we only visualized the evolution of phosphate in 2011. Is there the same evolution each year? \n",
    "For this we will here take an average for each month of all the years. And we will display the results in an animation to visualize the annual evolution of the phosphate concentrations in the Adriatic Sea."
   ]
  },
  {
   "cell_type": "code",
   "execution_count": null,
   "id": "4b461e92-945d-4a4b-93de-c946cd6b53df",
   "metadata": {},
   "outputs": [],
   "source": [
    "# creating a dataframe of po4 variable \n",
    "df <- data.frame(expand.grid(longitude, latitude,time_values), po4 = as.vector(po4))\n",
    "names(df) <- c(\"Longitude\", \"Latitude\",\"time\", \"po4\")\n",
    "\n",
    "# add the corresponding month\n",
    "df$month <- as.numeric(format(df$time, \"%m\"))\n",
    "\n",
    "# dataframe visualization\n",
    "df[1:10,]"
   ]
  },
  {
   "cell_type": "code",
   "execution_count": null,
   "id": "c717dc0b-fedc-4175-8e80-283abd416238",
   "metadata": {},
   "outputs": [],
   "source": [
    "# average over each month \n",
    "monthly_means <- df %>% \n",
    "    group_by(Longitude, Latitude, month) %>%\n",
    "    summarise(mean_po4 = mean(po4,na.rm=FALSE))\n",
    "\n",
    "# and we convert the results in dataframe. Because after the operation the dataframe became an object of tibble type \n",
    "monthly_means<- as.data.frame(monthly_means)"
   ]
  },
  {
   "cell_type": "markdown",
   "id": "68161716-5d5f-47fd-bfe3-a933cb0b5d70",
   "metadata": {},
   "source": [
    "We create a new plot function because we work with a dataframe and not matrix (the function is very similar of the previous):"
   ]
  },
  {
   "cell_type": "code",
   "execution_count": null,
   "id": "5ec43ce8-601f-4379-8b26-e52830fc5f7e",
   "metadata": {},
   "outputs": [],
   "source": [
    "# création of plot function\n",
    "mapping_dataframe <- function(df,var_name,minmax,date,ind,color){\n",
    "    options(repr.plot.width = 10, repr.plot.height = 10) \n",
    "\n",
    "    p <- ggplot() +geom_tile(data = df, aes(x=Longitude, y=Latitude, fill = mean_po4)) +\n",
    "\n",
    "    # Color scale options\n",
    "     scale_fill_viridis_c(option=color,limits = minmax, name = var_name) +\n",
    "\n",
    "    # General aesthetic options\n",
    "    theme_light() +\n",
    "\n",
    "    # Title and subtitle\n",
    "    labs(title = paste(var_name, \" - \",date,sep=''),\n",
    "         x = \"Longitude\",\n",
    "         y = \"Latitude\")+\n",
    "\n",
    "    # Legend position and aesthetic options\n",
    "    theme_minimal()+\n",
    "\n",
    "    theme(\n",
    "        axis.text.x = element_text(size = 20),  # Increase the size of the x-axis values\n",
    "        axis.text.y = element_text(size = 20),  # Increase the size of the y-axis values\n",
    "        plot.title = element_text(hjust = 0.5, size = 20),  # Center and increase the size of the title\n",
    "        axis.title.x = element_text(size = 20),  # Increase the size of the x-axis title\n",
    "        axis.title.y = element_text(size = 20),  # Increase the size of the y-axis title\n",
    "        legend.text = element_text(size = 20),    # Increase the size of the legend text\n",
    "        legend.title = element_text(size = 20)     # Increase the size of the legend title\n",
    "    )  +\n",
    "  guides(fill = guide_colorbar(barwidth = 2, barheight = 15)) +  # Adjust the size of the colorbar\n",
    "  coord_fixed()   # Maintain proportions\n",
    "  ggsave(paste(\"./figures/figure_for_gif/Po4_\", date,\".png\",sep=\"\"), plot = p ,width =20, height = 20,  dpi = 300)\n",
    "\n",
    "}"
   ]
  },
  {
   "cell_type": "markdown",
   "id": "383bd4e8-690c-48ac-a8f7-262caff5d06f",
   "metadata": {},
   "source": [
    "We load the creation of each figure:"
   ]
  },
  {
   "cell_type": "code",
   "execution_count": null,
   "id": "9f2905a5-087d-49de-b64a-10500b584b3a",
   "metadata": {},
   "outputs": [],
   "source": [
    "# Determine figure size\n",
    "options(repr.plot.width =10, repr.plot.height = 10)\n",
    "month<- c('January','February','March','April','May','June','July','August','September','October','November','December')\n",
    "\n",
    "for (i in seq_along(month)){\n",
    "    mapping_dataframe (subset(monthly_means,month==i),'mean_po4',c(0,0.3),month[i],i,\"viridis\")\n",
    "}"
   ]
  },
  {
   "cell_type": "markdown",
   "id": "a721aee8-f998-4166-9adc-4acab5142e55",
   "metadata": {},
   "source": [
    "We will create a gif allowing you to see the evolution of the different parameters over the year:"
   ]
  },
  {
   "cell_type": "code",
   "execution_count": null,
   "id": "8929ac34-12ea-41b9-bfa8-8da8eef66df9",
   "metadata": {},
   "outputs": [],
   "source": [
    "# List all PNG files in directory\n",
    "png_files <- list.files(\"./figures/figure_for_gif/\", \n",
    "                        pattern = \"\\\\.png$\", full.names = TRUE)\n",
    "\n",
    "# informations about file\n",
    "file_info <- file.info(png_files)\n",
    "\n",
    "# sort with the date of creation\n",
    "sorted_files <- png_files[order(file_info$ctime)]\n",
    "\n",
    "# visualization of files\n",
    "print(sorted_files)"
   ]
  },
  {
   "cell_type": "code",
   "execution_count": null,
   "id": "92265b28-8f4e-4f50-b0e3-b7384a57e55f",
   "metadata": {},
   "outputs": [],
   "source": [
    "# load images\n",
    "images <- image_read(sorted_files)\n",
    "\n",
    "# join images\n",
    "joined_images <- image_join(images)\n",
    "\n",
    "# create an animated GIF\n",
    "options(repr.plot.width = 4, repr.plot.height = 4) \n",
    "gif <- image_animate(joined_images, fps = 0.5)\n",
    "gif"
   ]
  },
  {
   "cell_type": "markdown",
   "id": "29eca0bc-f16b-44a2-8537-5eeea1202f26",
   "metadata": {},
   "source": [
    "Thanks to the gif you can see the monthly evolution of Phosphate. \n",
    "\n",
    "<div class=\"alert alert-block alert-info\">\n",
    "<h3>Option:</h3>\n",
    "You can test other variables to see the monthly evolution."
   ]
  },
  {
   "cell_type": "markdown",
   "id": "8f77e501-9f79-4e5d-a86c-95645caf082c",
   "metadata": {},
   "source": [
    "## 5.5. Visualization of current\n",
    "[Go back to the \"Table of contents\"](#Table-of-contents)\n",
    "\n",
    "In previous parts, we saw that nutrients move from the north to the south of the Adriatic Sea along the coast.  We will verify that it is the current that transports these nutrients. First, we define the new variables uo and vo, then we will create quiver plot."
   ]
  },
  {
   "cell_type": "code",
   "execution_count": null,
   "id": "52f90a2f-150b-46c3-8a7e-a07ba7cbafc8",
   "metadata": {},
   "outputs": [],
   "source": [
    "# define new variables\n",
    "file <- \"./data/data_cur.nc\"\n",
    "data<- nc_open(file)\n",
    "\n",
    "# new variables\n",
    "uo <- ncvar_get(data, \"uo\")     # eastward current velocity\n",
    "vo <- ncvar_get(data, \"vo\")     # northward current velocity\n",
    "longitude<-ncvar_get(data, \"longitude\") \n",
    "latitude<-ncvar_get(data, \"latitude\") \n",
    "\n",
    "# we define the first time January 2011\n",
    "index=1\n",
    "u=uo[,,index]\n",
    "v=vo[,,index]\n",
    "\n",
    "# calculate the norm of current\n",
    "norm <- sqrt(u^2 + v^2)\n",
    "\n"
   ]
  },
  {
   "cell_type": "code",
   "execution_count": null,
   "id": "add54e7a-9c3e-4639-9922-661a082f5b2c",
   "metadata": {},
   "outputs": [],
   "source": [
    "# we create a dataframe\n",
    "df <- data.frame(expand.grid(longitude, latitude), \n",
    "                 u = as.vector(u),v = as.vector(v),norm=as.vector(norm))\n",
    "\n",
    "names(df) <- c(\"longitude\", \"latitude\",\"u\", \"v\",\"norm\")\n"
   ]
  },
  {
   "cell_type": "code",
   "execution_count": null,
   "id": "21e94d9c-0bda-4a98-b075-4fc133c10162",
   "metadata": {},
   "outputs": [],
   "source": [
    "data"
   ]
  },
  {
   "cell_type": "code",
   "execution_count": null,
   "id": "f1f74612-dd77-4a91-b772-e2d7d70d85b0",
   "metadata": {},
   "outputs": [],
   "source": [
    "options(repr.plot.width = 10, repr.plot.height = 10) \n",
    "ggplot(df, aes(x = longitude, y = latitude)) +\n",
    "  # colorful background with norm\n",
    "  geom_tile(aes(fill = norm)) +\n",
    "  scale_fill_gradient(low = \"blue\", high = \"red\", name = \"Norm (m/s)\") +\n",
    "  \n",
    "     # vector display\n",
    "  geom_quiver(data = df, aes(u = u, v = v), color = \"black\", size = 0.2, vecsize= 5) +\n",
    " \n",
    "    # Maintain proportions\n",
    "  coord_fixed() +  \n",
    "    # Title and subtitle  \n",
    "  labs(\n",
    "        title = paste(\"Currents maps at surface - \",time_values[index], sep=''),\n",
    "        x = \"Longitude\",\n",
    "        y = \"Latitude\") +\n",
    "\n",
    "  theme_minimal()"
   ]
  },
  {
   "cell_type": "markdown",
   "id": "b1fa105d-73e2-48f2-b99b-7412a4ebc0c8",
   "metadata": {},
   "source": [
    "We can clearly see with this map that the current for January 2011 is carrying the nutrients towards the South via the west coast of the Adriatic Sea. Thus the Po River has an impact on the entire east coast of Italy.\n",
    "\n",
    "<div class=\"alert alert-block alert-info\">\n",
    "<h3>Option:</h3>\n",
    "You can try to make an animation of the current for each month over the entire period to compare with the phosphate animation"
   ]
  },
  {
   "cell_type": "markdown",
   "id": "dd71c7e2-2d4c-4831-bf27-053a036a1979",
   "metadata": {},
   "source": [
    "## 6. Conclusion\n",
    "[Go back to the \"Table of contents\"](#Table-of-contents)\n",
    "\n",
    "<div class=\"alert alert-block alert-success\">\n",
    "<b>Congratulations!</b> You have successfully completed the introductory-intermediate tutorial on using Copernicus products to evaluate Eutrophication in coastal waters in Adriatic Sea. Throughout this tutorial, we have explained the basic tools necessary to access and visualize Copernicus Marine data, generate different types of plots, and perform statistical analysis to examine the dispersion of phosphate and other nutients in Adriatic Sea.\n",
    "<br><br>\n",
    "\n",
    "In this tutorial, you acquired all the information you need to:\n",
    " \n",
    "\n",
    "\n",
    "* Access NetCDF datasets.\n",
    "\n",
    "* Navigate through the different variables, dimensions, and attributes of a NetCDF file.\n",
    "\n",
    "* Plot maps of any variable.\n",
    "\n",
    "* Modify maps to include additional information.\n",
    "\n",
    "* Calculate the spatial and temporal mean.\n",
    " \n",
    "We sincerely hope that you have enjoyed the tutorial and found useful information in it. Please keep in mind that the tutorial has a progressive difficulty, moving quickly from basic elements to intermediate levels. Our intention is for all users to find useful information tailored to their level.\n",
    " \n",
    "We understand that, for a user without prior knowledge, fully understanding all the procedures in the tutorial may be a challenge that requires some effort. However, we encourage everyone to take on the challenge as this is just the beginning of a journey towards a new understanding of the ocean and its ecosystems.\n",
    " \n",
    "</div>\n",
    "\n",
    " "
   ]
  },
  {
   "cell_type": "code",
   "execution_count": null,
   "id": "ec1fbaf5-4917-4354-8253-3aac84cdda9e",
   "metadata": {},
   "outputs": [],
   "source": []
  }
 ],
 "metadata": {
  "kernelspec": {
   "display_name": "R (CMEMS v3.2)",
   "language": "R",
   "name": "cmems-r_v3.2"
  },
  "language_info": {
   "codemirror_mode": "r",
   "file_extension": ".r",
   "mimetype": "text/x-r-source",
   "name": "R",
   "pygments_lexer": "r",
   "version": "4.3.3"
  },
  "services": {
   "wekeo": {
    "git": {
     "link": "https://github.com/wekeo/wekeo4training/training_coastal_interactions_2024/Jupyter_R_WEkEO_Coastal_Interactions/Jupyter_R_wekeo_coastal.ipynb",
     "service_contact": "ops@eumetsat.int",
     "service_provider": "EUMETSAT"
    },
    "url": {
     "link": "https://jupyterhub.prod.wekeo2.eu/hub/user-redirect/lab/tree/public/wekeo4training/training_coastal_interactions_2024/Jupyter_R_WEkEO_Coastal_Interactions/Jupyter_R_wekeo_coastal.ipynb",
     "service_contact": "ops@eumetsat.int",
     "service_provider": "EUMETSAT"
    }
   }
  }
 },
 "nbformat": 4,
 "nbformat_minor": 5
}
